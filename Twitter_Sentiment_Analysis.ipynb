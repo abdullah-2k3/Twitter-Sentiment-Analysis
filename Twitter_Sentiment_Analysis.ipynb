{
  "cells": [
    {
      "cell_type": "code",
      "execution_count": 3,
      "metadata": {
        "colab": {
          "base_uri": "https://localhost:8080/"
        },
        "id": "XbyiBRQiaNN7",
        "outputId": "78a1e35b-9bb8-436d-dcc0-616248b42736"
      },
      "outputs": [
        {
          "name": "stdout",
          "output_type": "stream",
          "text": [
            "Collecting pyspark\n",
            "  Downloading pyspark-3.5.1.tar.gz (317.0 MB)\n",
            "\u001b[2K     \u001b[90m━━━━━━━━━━━━━━━━━━━━━━━━━━━━━━━━━━━━━━━━\u001b[0m \u001b[32m317.0/317.0 MB\u001b[0m \u001b[31m2.2 MB/s\u001b[0m eta \u001b[36m0:00:00\u001b[0m\n",
            "\u001b[?25h  Preparing metadata (setup.py) ... \u001b[?25l\u001b[?25hdone\n",
            "Requirement already satisfied: py4j==0.10.9.7 in /usr/local/lib/python3.10/dist-packages (from pyspark) (0.10.9.7)\n",
            "Building wheels for collected packages: pyspark\n",
            "  Building wheel for pyspark (setup.py) ... \u001b[?25l\u001b[?25hdone\n",
            "  Created wheel for pyspark: filename=pyspark-3.5.1-py2.py3-none-any.whl size=317488491 sha256=1a5721300fadd1126f0956ec5da2e1d660ff61ad83bd74ee93130fc9d4e2fc94\n",
            "  Stored in directory: /root/.cache/pip/wheels/80/1d/60/2c256ed38dddce2fdd93be545214a63e02fbd8d74fb0b7f3a6\n",
            "Successfully built pyspark\n",
            "Installing collected packages: pyspark\n",
            "Successfully installed pyspark-3.5.1\n"
          ]
        }
      ],
      "source": [
        "!pip install pyspark"
      ]
    },
    {
      "cell_type": "code",
      "execution_count": null,
      "metadata": {
        "id": "l2K70p1-5Y_b"
      },
      "outputs": [],
      "source": [
        "from google.colab import drive\n",
        "drive.mount('/content/drive')\n",
        "\n",
        "hdfs_path = \"hdfs://user/hadoop/data.csv\""
      ]
    },
    {
      "cell_type": "code",
      "execution_count": 4,
      "metadata": {
        "id": "4y_6_bqZYvxe"
      },
      "outputs": [],
      "source": [
        "from pyspark.sql import SparkSession\n",
        "\n",
        "spark = SparkSession.builder.appName(\"TweetClassification\").getOrCreate()\n",
        "\n"
      ]
    },
    {
      "cell_type": "code",
      "execution_count": 5,
      "metadata": {
        "id": "vqJib69jbLeS"
      },
      "outputs": [],
      "source": [
        "df0 = spark.read.csv(\"drive/MyDrive/TwitterData/bigboy.csv\", header=True, inferSchema=True)\n",
        "df1 = spark.read.csv(\"drive/MyDrive/TwitterData/datum1.csv\", header=True, inferSchema=True)\n",
        "df2 = spark.read.csv(\"drive/MyDrive/TwitterData/datum2.csv\", header=True, inferSchema=True)\n",
        "df3 = spark.read.csv(\"drive/MyDrive/TwitterData/datum3.csv\", header=True, inferSchema=True)"
      ]
    },
    {
      "cell_type": "code",
      "execution_count": 6,
      "metadata": {
        "id": "VqA24yRxwf_a"
      },
      "outputs": [],
      "source": [
        "from functools import reduce\n",
        "from pyspark.sql import DataFrame\n",
        "\n",
        "df0 = df0.drop(\"number\")\n",
        "dfs = [df0,df1, df2, df3]\n",
        "\n",
        "df = reduce(DataFrame.union, dfs)\n",
        "\n"
      ]
    },
    {
      "cell_type": "code",
      "execution_count": 77,
      "metadata": {
        "colab": {
          "base_uri": "https://localhost:8080/"
        },
        "id": "sYoAmj5bIjdg",
        "outputId": "641c45a0-d385-4ac8-fdfb-58a178730402"
      },
      "outputs": [
        {
          "name": "stdout",
          "output_type": "stream",
          "text": [
            "root\n",
            " |-- id: string (nullable = true)\n",
            " |-- full_text: string (nullable = true)\n",
            " |-- hashtags: string (nullable = true)\n",
            " |-- lang: string (nullable = true)\n",
            " |-- user_name: string (nullable = true)\n",
            " |-- tokens: string (nullable = true)\n",
            " |-- sentiment: integer (nullable = true)\n",
            "\n",
            "Columns:  ['id', 'full_text', 'hashtags', 'lang', 'user_name', 'tokens', 'sentiment']\n",
            "Rows:  149\n"
          ]
        }
      ],
      "source": [
        "df.printSchema()\n",
        "print(\"Columns: \", df.columns)\n",
        "print(\"Rows: \", df.count())"
      ]
    },
    {
      "cell_type": "code",
      "execution_count": 76,
      "metadata": {
        "id": "AuKfhSuVbSPh"
      },
      "outputs": [],
      "source": [
        "\n",
        "df = df.dropDuplicates()\n",
        "\n",
        "df = df.na.drop(subset=[\"full_text\"])\n"
      ]
    },
    {
      "cell_type": "code",
      "execution_count": 72,
      "metadata": {
        "id": "O9aetFzbFzwG"
      },
      "outputs": [],
      "source": [
        "df = df.select(\"id\", \"full_text\", \"hashtags\", \"lang\", \"user_name\")"
      ]
    },
    {
      "cell_type": "code",
      "execution_count": 73,
      "metadata": {
        "colab": {
          "base_uri": "https://localhost:8080/"
        },
        "id": "Dtt3UsCHSuo6",
        "outputId": "98367199-2158-41f0-e934-16db2116952b"
      },
      "outputs": [
        {
          "name": "stdout",
          "output_type": "stream",
          "text": [
            "+-------------------+--------------------+--------------------+----+---------------+\n",
            "|                 id|           full_text|            hashtags|lang|      user_name|\n",
            "+-------------------+--------------------+--------------------+----+---------------+\n",
            "|1469001500462620679|#Kholi #DLM #Liqo...|Kholi,DLM,Liqouro...|  en|        TiitweN|\n",
            "|1469002575668301828|The crew @spiderm...|SpiderManNoWayHom...|  en|      erathrim_|\n",
            "|1469001504019390473|#RT @houstonisdwa...|             RT,HISD|  en|  HISD_Outreach|\n",
            "|1469001491436478464|@classicallygia H...|Survivor41,Surviv...|  en|        seb1959|\n",
            "|1469001500919840770|Signing day nears...|Rutgers,RFootball...|  en|  TodderickHunt|\n",
            "|1469001489444216838|#HIDAYAT_THE_RAPI...|  HIDAYAT_THE_RAPIST|  en|x5XvlQYxBYrYykF|\n",
            "|1469001497845321730|@Greene5952 Love ...|              Crypto|  en|   AP_Crypto_TX|\n",
            "|1469001496255614976|This is why #MMA ...|          MMA,UFC269|  en|  ChiranjitOjha|\n",
            "|1469001498877116425|What’s up with th...|     AndJustLikeThat|  en|marquettaquante|\n",
            "|1469001504870866947|Beautiful all ❤️ ...|KatrinaKaif,Anush...|  en|peacefullifejml|\n",
            "|1469001495924379657|Extremely proud t...|             ilbsd13|  en|    D13Warriors|\n",
            "|1469001497379753985|I vote #straykids...|  straykids,MAMAVOTE|  en|   carlameza166|\n",
            "|1469002576226140163|Dontrell Hilliard...|              Titans|  en| TDavenport_NFL|\n",
            "|1469001496662577152|I can't wait to s...|SpecialTeamsMulti...|  en|       SamIngro|\n",
            "|1469002577924833281|That'll learn ya,...|            thechase|  en|  HarobedYellum|\n",
            "|1469001492719804416|Tomorrow is going...|  allinforchennaiyin|  en|     machamanny|\n",
            "|1469001504753344518|Seeing all this m...|                 BBN|  en|     FQKentucky|\n",
            "|1469001506057715714|In the back of Ou...|HaloInfinite,Xbox...|  en|  TheBmoreGamer|\n",
            "|1469001487695192069|@axion_network @0...| Axion,matic,Polygon|  en|blackwell_smith|\n",
            "|1469002576381325313|@BethRigby @SamCo...|       ElectionsBill|  en| labourunionsuk|\n",
            "+-------------------+--------------------+--------------------+----+---------------+\n",
            "only showing top 20 rows\n",
            "\n"
          ]
        }
      ],
      "source": [
        "df.show()"
      ]
    },
    {
      "cell_type": "code",
      "execution_count": 81,
      "metadata": {
        "colab": {
          "base_uri": "https://localhost:8080/"
        },
        "id": "9XaVE_Wc_do2",
        "outputId": "5e95195c-b662-49a0-9e5d-dbed0006c35f"
      },
      "outputs": [
        {
          "name": "stderr",
          "output_type": "stream",
          "text": [
            "[nltk_data] Downloading package stopwords to /root/nltk_data...\n",
            "[nltk_data]   Package stopwords is already up-to-date!\n",
            "[nltk_data] Downloading package punkt to /root/nltk_data...\n",
            "[nltk_data]   Package punkt is already up-to-date!\n",
            "[nltk_data] Downloading package vader_lexicon to /root/nltk_data...\n",
            "[nltk_data]   Package vader_lexicon is already up-to-date!\n"
          ]
        },
        {
          "data": {
            "text/plain": [
              "True"
            ]
          },
          "execution_count": 81,
          "metadata": {},
          "output_type": "execute_result"
        }
      ],
      "source": [
        "from nltk.sentiment.vader import SentimentIntensityAnalyzer\n",
        "from pyspark.sql.functions import udf\n",
        "from pyspark.sql.types import IntegerType\n",
        "from pyspark.ml.feature import Tokenizer, StopWordsRemover\n",
        "\n",
        "nltk.download('stopwords')\n",
        "nltk.download('punkt')\n",
        "nltk.download('vader_lexicon')"
      ]
    },
    {
      "cell_type": "code",
      "execution_count": 94,
      "metadata": {
        "colab": {
          "base_uri": "https://localhost:8080/"
        },
        "id": "FWkMPAB8N_ZW",
        "outputId": "14d39017-780e-4925-b5e9-dfb268ad536c"
      },
      "outputs": [
        {
          "name": "stdout",
          "output_type": "stream",
          "text": [
            "+--------------------+--------------------+--------------------+----+--------------------+---------+--------------------+--------------------+--------------------+\n",
            "|                  id|           full_text|            hashtags|lang|           user_name|sentiment|        tokens_no_sw|              tokens|     filtered_tokens|\n",
            "+--------------------+--------------------+--------------------+----+--------------------+---------+--------------------+--------------------+--------------------+\n",
            "| 1469001496255614976|This is why MMA i...|          MMA,UFC269|  en|       ChiranjitOjha|        2|[mma, unique, eve...|[this, is, why, m...|[mma, unique, eve...|\n",
            "|For more informat...|                   0|                  en|   3|Thu Dec 09 17:50:...|        1|                 [0]|                 [0]|                 [0]|\n",
            "| 1469001491847524355|Early interventio...|LearntheSigns,Act...|  en|            Excelby8|        2|[early, intervent...|[early, intervent...|[early, intervent...|\n",
            "|#BackTheBlue 👮‍♀...|                  13|                  en| 129|Thu Dec 09 17:50:...|        1|                [13]|                [13]|                [13]|\n",
            "| 1469001501351817218|I am NOT well And...|     AndJustLikeThat|  en|              timpsz|        0|[well, andjustlik...|[i, am, not, well...|[well, andjustlik...|\n",
            "|#royalehigh #Roya...|                   1|                  en|   0|Thu Dec 09 17:50:...|        1|                 [1]|                 [1]|                 [1]|\n",
            "| 1469001508331081734|The festive seaso...|        LincolnGreen|  en|        andybirkbeck|        2|[festive, season,...|[the, festive, se...|[festive, season,...|\n",
            "|You edged me out ...|                   1|                  en|   1|Thu Dec 09 17:50:...|        1|                 [1]|                 [1]|                 [1]|\n",
            "|#SUGA #SUGAxJuice...|                   0|                  en|   1|Thu Dec 09 17:50:...|        1|                 [0]|                 [0]|                 [0]|\n",
            "|            #vtpoli\"|                   1|                  en|   2|Thu Dec 09 17:50:...|        1|                 [1]|                 [1]|                 [1]|\n",
            "|#AbuDhabiT10 #InA...|                   0|                  en|  40|Thu Dec 09 17:50:...|        1|                 [0]|                 [0]|                 [0]|\n",
            "|Shame on u sourav...|                   0|                  en|   1|Thu Dec 09 17:54:...|        1|                 [0]|                 [0]|                 [0]|\n",
            "| 1469001503662874624|Everytime sidsa o...|sidsa,sidg,sanjan...|  en|            squad_d3|        1|[everytime, sidsa...|[everytime, sidsa...|[everytime, sidsa...|\n",
            "| 1469001504870866947|Beautiful all  Ka...|KatrinaKaif,Anush...|  en|     peacefullifejml|        2|[beautiful, , kat...|[beautiful, all, ...|[beautiful, , kat...|\n",
            "|ANTICIPATE!!. #Y3...|                   0|                  en|   2|Thu Dec 09 17:54:...|        1|                 [0]|                 [0]|                 [0]|\n",
            "|#nftart #NFTartis...|                   0|                  en|  10|Thu Dec 09 17:50:...|        1|                 [0]|                 [0]|                 [0]|\n",
            "|#BipinRawat https...|                   0|                  en|   8|Thu Dec 09 17:54:...|        1|                 [0]|                 [0]|                 [0]|\n",
            "|@jimbmccormack @c...|                   3|                  en|  31|Thu Dec 09 17:50:...|        1|                 [3]|                 [3]|                 [3]|\n",
            "| 1469002576008036358|Newcastle RoadPil...|          RoadPilots|  en|           Wentzello|        1|[newcastle, roadp...|[newcastle, roadp...|[newcastle, roadp...|\n",
            "| 1469001498826784772|Zach locks up ano...|jets,takeflight,N...|  en|        NYJETSTWEETZ|        2|[zach, locks, ano...|[zach, locks, up,...|[zach, locks, ano...|\n",
            "+--------------------+--------------------+--------------------+----+--------------------+---------+--------------------+--------------------+--------------------+\n",
            "only showing top 20 rows\n",
            "\n"
          ]
        }
      ],
      "source": [
        "from pyspark.sql.functions import *\n",
        "from pyspark.sql.types import StringType, BooleanType\n",
        "import re\n",
        "\n",
        "def remove_emojis(text):\n",
        "    return text.encode('ascii', 'ignore').decode('ascii')\n",
        "\n",
        "remove_emojis_udf = udf(remove_emojis, StringType())\n",
        "df = df.withColumn(\"full_text\", remove_emojis_udf(\"full_text\"))\n",
        "\n",
        "def is_english(text):\n",
        "    try:\n",
        "        text.encode(encoding='utf-8').decode('ascii')\n",
        "        return True\n",
        "    except UnicodeDecodeError:\n",
        "        return False\n",
        "\n",
        "is_english_udf = udf(is_english, BooleanType())\n",
        "df = df.filter(is_english_udf(df['full_text']))\n",
        "\n",
        "tokenizer = Tokenizer(inputCol=\"full_text\", outputCol=\"tokens\")\n",
        "df = tokenizer.transform(df)\n",
        "\n",
        "remover = StopWordsRemover(inputCol=\"tokens\", outputCol=\"filtered_tokens\")\n",
        "df = remover.transform(df)\n",
        "\n",
        "df.drop(\"tokens\")\n",
        "\n",
        "\n",
        "def remove_special_characters(text):\n",
        "    cleaned_text = re.sub(r'[^a-zA-Z0-9\\s]', '', text)\n",
        "    return cleaned_text\n",
        "\n",
        "remove_special_characters_udf = udf(remove_special_characters, StringType())\n",
        "\n",
        "def remove_urls(text):\n",
        "    cleaned_text = re.sub(r'http\\S+', '', text)\n",
        "    return cleaned_text\n",
        "remove_urls_udf = udf(remove_urls, StringType())\n",
        "\n",
        "df = df.withColumn(\"full_text\", remove_special_characters_udf(df[\"full_text\"]))\n",
        "df = df.withColumn(\"full_text\", remove_urls_udf(df[\"full_text\"]))\n",
        "\n",
        "df.show()\n"
      ]
    },
    {
      "cell_type": "code",
      "execution_count": 95,
      "metadata": {
        "colab": {
          "base_uri": "https://localhost:8080/"
        },
        "id": "9-qRJ6E0A3qe",
        "outputId": "f3138f62-eecf-4fb5-9871-f98618138e67"
      },
      "outputs": [
        {
          "name": "stdout",
          "output_type": "stream",
          "text": [
            "+--------------------+--------------------+--------------------+----+--------------------+---------+--------------------+--------------------+--------------------+\n",
            "|                  id|           full_text|            hashtags|lang|           user_name|sentiment|        tokens_no_sw|              tokens|     filtered_tokens|\n",
            "+--------------------+--------------------+--------------------+----+--------------------+---------+--------------------+--------------------+--------------------+\n",
            "| 1469001496255614976|This is why MMA i...|          MMA,UFC269|  en|       ChiranjitOjha|        2|[mma, unique, eve...|[this, is, why, m...|[mma, unique, eve...|\n",
            "|For more informat...|                   0|                  en|   3|Thu Dec 09 17:50:...|        1|                 [0]|                 [0]|                 [0]|\n",
            "| 1469001491847524355|Early interventio...|LearntheSigns,Act...|  en|            Excelby8|        2|[early, intervent...|[early, intervent...|[early, intervent...|\n",
            "|#BackTheBlue 👮‍♀...|                  13|                  en| 129|Thu Dec 09 17:50:...|        1|                [13]|                [13]|                [13]|\n",
            "| 1469001501351817218|I am NOT well And...|     AndJustLikeThat|  en|              timpsz|        0|[well, andjustlik...|[i, am, not, well...|[well, andjustlik...|\n",
            "|#royalehigh #Roya...|                   1|                  en|   0|Thu Dec 09 17:50:...|        1|                 [1]|                 [1]|                 [1]|\n",
            "| 1469001508331081734|The festive seaso...|        LincolnGreen|  en|        andybirkbeck|        2|[festive, season,...|[the, festive, se...|[festive, season,...|\n",
            "|You edged me out ...|                   1|                  en|   1|Thu Dec 09 17:50:...|        1|                 [1]|                 [1]|                 [1]|\n",
            "|#SUGA #SUGAxJuice...|                   0|                  en|   1|Thu Dec 09 17:50:...|        1|                 [0]|                 [0]|                 [0]|\n",
            "|            #vtpoli\"|                   1|                  en|   2|Thu Dec 09 17:50:...|        1|                 [1]|                 [1]|                 [1]|\n",
            "|#AbuDhabiT10 #InA...|                   0|                  en|  40|Thu Dec 09 17:50:...|        1|                 [0]|                 [0]|                 [0]|\n",
            "|Shame on u sourav...|                   0|                  en|   1|Thu Dec 09 17:54:...|        1|                 [0]|                 [0]|                 [0]|\n",
            "| 1469001503662874624|Everytime sidsa o...|sidsa,sidg,sanjan...|  en|            squad_d3|        1|[everytime, sidsa...|[everytime, sidsa...|[everytime, sidsa...|\n",
            "| 1469001504870866947|Beautiful all  Ka...|KatrinaKaif,Anush...|  en|     peacefullifejml|        2|[beautiful, , kat...|[beautiful, all, ...|[beautiful, , kat...|\n",
            "|ANTICIPATE!!. #Y3...|                   0|                  en|   2|Thu Dec 09 17:54:...|        1|                 [0]|                 [0]|                 [0]|\n",
            "|#nftart #NFTartis...|                   0|                  en|  10|Thu Dec 09 17:50:...|        1|                 [0]|                 [0]|                 [0]|\n",
            "|#BipinRawat https...|                   0|                  en|   8|Thu Dec 09 17:54:...|        1|                 [0]|                 [0]|                 [0]|\n",
            "|@jimbmccormack @c...|                   3|                  en|  31|Thu Dec 09 17:50:...|        1|                 [3]|                 [3]|                 [3]|\n",
            "| 1469002576008036358|Newcastle RoadPil...|          RoadPilots|  en|           Wentzello|        1|[newcastle, roadp...|[newcastle, roadp...|[newcastle, roadp...|\n",
            "| 1469001498826784772|Zach locks up ano...|jets,takeflight,N...|  en|        NYJETSTWEETZ|        2|[zach, locks, ano...|[zach, locks, up,...|[zach, locks, ano...|\n",
            "+--------------------+--------------------+--------------------+----+--------------------+---------+--------------------+--------------------+--------------------+\n",
            "only showing top 20 rows\n",
            "\n"
          ]
        }
      ],
      "source": [
        "sid = SentimentIntensityAnalyzer()\n",
        "\n",
        "def analyze_sentiment(text):\n",
        "    sentiment_score = sid.polarity_scores(text)\n",
        "    if sentiment_score['compound'] > 0.05:\n",
        "        return 2\n",
        "    elif sentiment_score['compound'] < -0.05:\n",
        "        return 0\n",
        "    else:\n",
        "        return 1\n",
        "\n",
        "sentiment_udf = udf(analyze_sentiment, IntegerType())\n",
        "\n",
        "df = df.withColumn('sentiment', sentiment_udf(df['full_text']))\n",
        "\n",
        "df.show()\n"
      ]
    }
  ],
  "metadata": {
    "colab": {
      "provenance": []
    },
    "kernelspec": {
      "display_name": "Python 3",
      "name": "python3"
    },
    "language_info": {
      "name": "python"
    }
  },
  "nbformat": 4,
  "nbformat_minor": 0
}
